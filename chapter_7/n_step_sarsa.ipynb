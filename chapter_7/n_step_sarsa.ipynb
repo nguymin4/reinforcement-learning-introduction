{
 "cells": [
  {
   "cell_type": "code",
   "execution_count": 1,
   "metadata": {},
   "outputs": [],
   "source": [
    "import sys\n",
    "\n",
    "not \"..\" in sys.path and sys.path.insert(0, \"..\")"
   ]
  },
  {
   "cell_type": "code",
   "execution_count": 2,
   "metadata": {},
   "outputs": [
    {
     "data": {
      "image/png": "[encoded data removed]",
      "text/plain": [
       "<Figure size 800x400 with 1 Axes>"
      ]
     },
     "metadata": {},
     "output_type": "display_data"
    }
   ],
   "source": [
    "import numpy as np\n",
    "from chapter_6.windy_gridworld import WindyGridWorld, sample_policy_episode\n",
    "\n",
    "\n",
    "np.random.seed(42)\n",
    "\n",
    "grid_world = WindyGridWorld()\n",
    "grid_world.render()\n"
   ]
  },
  {
   "cell_type": "code",
   "execution_count": 3,
   "metadata": {},
   "outputs": [
    {
     "name": "stderr",
     "output_type": "stream",
     "text": [
      "Ep #19980: 13 time steps. Convergence rate: 98.16%: 100%|██████████| 20000/20000 [00:29<00:00, 681.74it/s]\n"
     ]
    },
    {
     "name": "stdout",
     "output_type": "stream",
     "text": [
      "Convergence rate: 98.25%\n"
     ]
    },
    {
     "data": {
      "image/png": "[encoded data removed]",
      "text/plain": [
       "<Figure size 800x400 with 1 Axes>"
      ]
     },
     "metadata": {},
     "output_type": "display_data"
    }
   ],
   "source": [
    "import logging\n",
    "from tqdm import trange\n",
    "\n",
    "\n",
    "def n_step_sarsa(\n",
    "    env: WindyGridWorld,\n",
    "    max_eps: int = 100,\n",
    "    max_time: int = 20000,\n",
    "    n=4,\n",
    "    alpha=0.5,\n",
    "    epsilon=0.1,\n",
    "    discount=1,\n",
    "):\n",
    "    logging.info(\"Start training...\")\n",
    "    # Inititalize\n",
    "    action_dim = len(env.action_space)\n",
    "    state_action_dims = (*env.grid_map.shape, action_dim)\n",
    "    Q = -max_time * np.ones(state_action_dims)\n",
    "    policy = np.ones(Q.shape) / action_dim\n",
    "\n",
    "    temp_S = np.full(n + 1, None)\n",
    "    temp_A = np.full(n + 1, None)\n",
    "    temp_R = np.zeros(n + 1)\n",
    "\n",
    "    def choose_action(state: tuple):\n",
    "        return np.random.choice(action_dim, p=policy[state])\n",
    "\n",
    "    state_history = [env.current_state]\n",
    "    progress_bar = trange(max_eps)\n",
    "    converged_count = 0\n",
    "    for ep_num in progress_bar:\n",
    "        env.reset()\n",
    "        state = tuple(env.current_state)\n",
    "        action = choose_action(state)\n",
    "        temp_S[0] = state\n",
    "        temp_A[0] = action\n",
    "        T = max_time\n",
    "\n",
    "        state_history = [env.current_state]\n",
    "        for t in range(max_time):\n",
    "            temp_idx = (t + 1) % (n + 1)\n",
    "            if t < T:\n",
    "                reward, finished = env.step(env.action_space[action])\n",
    "                next_state = tuple(env.current_state)\n",
    "\n",
    "                temp_S[temp_idx] = next_state\n",
    "                temp_R[temp_idx] = reward\n",
    "\n",
    "                if finished:\n",
    "                    T = t + 1\n",
    "                    converged_count += 1\n",
    "                    if ep_num % 20 == 0:\n",
    "                        progress_bar.set_description(f\"Ep #{ep_num}: {t} time steps. Convergence rate: {round(converged_count * 100 / max_eps, 2)}%\")\n",
    "                else:\n",
    "                    next_action = choose_action(next_state)\n",
    "                    temp_A[temp_idx] = next_action\n",
    "            \n",
    "            tau = t - n + 1\n",
    "            if tau >= 0:\n",
    "                G = sum([\n",
    "                    np.power(discount, i - tau - 1) * temp_R[i % (n + 1)]\n",
    "                    for i in range(tau + 1, min(tau + n, int(T)))\n",
    "                ])\n",
    "                if tau + n < T:\n",
    "                    idx = (tau + n) % (n + 1)\n",
    "                    next_state_action = (*temp_S[idx], temp_A[idx])\n",
    "                    G += (discount ** n) * Q[next_state_action]\n",
    "\n",
    "                idx = tau % (n + 1)\n",
    "                state_action = (*temp_S[idx], temp_A[idx])\n",
    "                Q[state_action] += alpha * (G - Q[state_action])\n",
    "\n",
    "                # Ensure policy is epsilon-greedy wrt to Q\n",
    "                policy[temp_S[idx]] = epsilon / action_dim\n",
    "                policy[(*temp_S[idx], np.argmax(Q[temp_S[idx]]))] = 1 - epsilon + epsilon / action_dim\n",
    "\n",
    "            state = temp_S[temp_idx]\n",
    "            action = temp_A[temp_idx]\n",
    "            state_history.append(state)\n",
    "\n",
    "            if tau == T - 1:\n",
    "                break\n",
    "\n",
    "    print(f\"Convergence rate: {round(converged_count * 100 / max_eps, 2)}%\")\n",
    "    env.render(state_history)\n",
    "    policy = np.argmax(Q, axis=-1)\n",
    "    return Q, policy\n",
    "\n",
    "\n",
    "Q, policy = n_step_sarsa(grid_world, max_eps=20000, max_time=50, n=8, epsilon=0.1, alpha=0.1)"
   ]
  },
  {
   "cell_type": "code",
   "execution_count": 4,
   "metadata": {},
   "outputs": [
    {
     "name": "stdout",
     "output_type": "stream",
     "text": [
      "[[ 1  0]\n",
      " [-1  0]\n",
      " [ 0  1]\n",
      " [-1 -1]\n",
      " [ 1  1]\n",
      " [-1  1]\n",
      " [ 0  0]\n",
      " [ 0 -1]\n",
      " [ 1 -1]]\n",
      "[[5 5 8 2 4 2 4 2 2 4]\n",
      " [3 4 5 1 6 2 5 7 4 0]\n",
      " [5 5 5 5 1 2 2 4 2 8]\n",
      " [5 7 0 5 8 3 0 0 8 5]\n",
      " [2 4 4 5 4 6 0 0 6 0]\n",
      " [2 0 4 2 5 2 0 3 8 7]\n",
      " [2 4 5 2 4 7 0 0 0 0]]\n"
     ]
    },
    {
     "data": {
      "image/png": "[encoded data removed]",
      "text/plain": [
       "<Figure size 800x400 with 1 Axes>"
      ]
     },
     "metadata": {},
     "output_type": "display_data"
    }
   ],
   "source": [
    "sample_policy_episode(grid_world, policy, 15)\n",
    "print(grid_world.action_space)\n",
    "print(policy)"
   ]
  },
  {
   "cell_type": "code",
   "execution_count": null,
   "metadata": {},
   "outputs": [],
   "source": []
  }
 ],
 "metadata": {
  "kernelspec": {
   "display_name": "reinforcement-learning",
   "language": "python",
   "name": "python3"
  },
  "language_info": {
   "codemirror_mode": {
    "name": "ipython",
    "version": 3
   },
   "file_extension": ".py",
   "mimetype": "text/x-python",
   "name": "python",
   "nbconvert_exporter": "python",
   "pygments_lexer": "ipython3",
   "version": "3.10.9"
  },
  "orig_nbformat": 4
 },
 "nbformat": 4,
 "nbformat_minor": 2
}
